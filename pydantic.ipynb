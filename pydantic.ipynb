{
 "cells": [
  {
   "cell_type": "markdown",
   "id": "passing-preparation",
   "metadata": {
    "slideshow": {
     "slide_type": "slide"
    },
    "tags": []
   },
   "source": [
    "# Type hints \n",
    "Type hints are the Python native way to define the type of the objects in a program - string, number, enum etc.\n",
    "Traditionally, the Python interpreter handles types in a flexible but implicit way. Recent versions of Python allow you to specify explicit type hints that different tools can use to develop your code more efficiently. Type hints help document to yourself and other people what you want your code to do. It takes no more work than the traditional docstring approach but has the advantage of being a standardised approach with far better tooling, with linters such as mypy and pytype, and IDE support from VS code, pycharm etc...\n"
   ]
  },
  {
   "cell_type": "markdown",
   "id": "quantitative-deficit",
   "metadata": {
    "slideshow": {
     "slide_type": "slide"
    },
    "tags": []
   },
   "source": [
    "# Python Dataclass\n",
    "\n",
    "Data classes are geared toward storing data, and some logic and some common boilerplate to your class. It greatly simplifies the creation of data management.\n",
    "\n",
    "\n",
    "https://docs.python.org/3/library/dataclasses.html\n",
    "\n",
    "https://realpython.com/python-data-classes/\n",
    "\n",
    "## For example -"
   ]
  },
  {
   "cell_type": "code",
   "execution_count": 26,
   "id": "received-board",
   "metadata": {
    "slideshow": {
     "slide_type": "slide"
    },
    "tags": []
   },
   "outputs": [
    {
     "data": {
      "text/plain": [
       "500000"
      ]
     },
     "execution_count": 26,
     "metadata": {},
     "output_type": "execute_result"
    }
   ],
   "source": [
    "from dataclasses import dataclass\n",
    "\n",
    "# if you wanted to make the class immuteable like a Namdedtuple use frozen=True \n",
    "@dataclass()\n",
    "class Truck:\n",
    "    '''Class for keeping track of a truck in inventory.'''\n",
    "    name: str\n",
    "    price: float\n",
    "    quantity: int = 0\n",
    "\n",
    "    def total_cost(self) -> float:\n",
    "        return self.price * self.quantity\n",
    "\n",
    "truck=Truck(name='f150',price=50000, quantity=10)\n",
    "truck.total_cost()"
   ]
  },
  {
   "cell_type": "markdown",
   "id": "informational-cement",
   "metadata": {
    "slideshow": {
     "slide_type": "slide"
    },
    "tags": []
   },
   "source": [
    "## Let's see what's inside of the dataclass\n"
   ]
  },
  {
   "cell_type": "code",
   "execution_count": 27,
   "id": "central-draft",
   "metadata": {
    "slideshow": {
     "slide_type": "slide"
    },
    "tags": []
   },
   "outputs": [
    {
     "data": {
      "text/plain": [
       "['__annotations__',\n",
       " '__class__',\n",
       " '__dataclass_fields__',\n",
       " '__dataclass_params__',\n",
       " '__delattr__',\n",
       " '__dict__',\n",
       " '__dir__',\n",
       " '__doc__',\n",
       " '__eq__',\n",
       " '__format__',\n",
       " '__ge__',\n",
       " '__getattribute__',\n",
       " '__gt__',\n",
       " '__hash__',\n",
       " '__init__',\n",
       " '__init_subclass__',\n",
       " '__le__',\n",
       " '__lt__',\n",
       " '__module__',\n",
       " '__ne__',\n",
       " '__new__',\n",
       " '__reduce__',\n",
       " '__reduce_ex__',\n",
       " '__repr__',\n",
       " '__setattr__',\n",
       " '__sizeof__',\n",
       " '__str__',\n",
       " '__subclasshook__',\n",
       " '__weakref__',\n",
       " 'name',\n",
       " 'price',\n",
       " 'quantity',\n",
       " 'total_cost']"
      ]
     },
     "execution_count": 27,
     "metadata": {},
     "output_type": "execute_result"
    }
   ],
   "source": [
    "dir(truck)"
   ]
  },
  {
   "cell_type": "markdown",
   "id": "loaded-butter",
   "metadata": {
    "slideshow": {
     "slide_type": "slide"
    },
    "tags": []
   },
   "source": [
    "## What happens when you use the wrong types?"
   ]
  },
  {
   "cell_type": "code",
   "execution_count": 28,
   "id": "portuguese-gambling",
   "metadata": {
    "slideshow": {
     "slide_type": "slide"
    },
    "tags": []
   },
   "outputs": [],
   "source": [
    "truck=Truck(name=100, price='50000',quantity='ten')"
   ]
  },
  {
   "cell_type": "code",
   "execution_count": 6,
   "id": "dynamic-reality",
   "metadata": {
    "slideshow": {
     "slide_type": "slide"
    },
    "tags": []
   },
   "outputs": [
    {
     "ename": "TypeError",
     "evalue": "can't multiply sequence by non-int of type 'str'",
     "output_type": "error",
     "traceback": [
      "\u001b[0;31m---------------------------------------------------------------------------\u001b[0m",
      "\u001b[0;31mTypeError\u001b[0m                                 Traceback (most recent call last)",
      "\u001b[0;32m<ipython-input-6-d8417b0ab9c7>\u001b[0m in \u001b[0;36m<module>\u001b[0;34m\u001b[0m\n\u001b[1;32m      1\u001b[0m \u001b[0;31m# Let's run it - since it allowed us to create the object\u001b[0m\u001b[0;34m\u001b[0m\u001b[0;34m\u001b[0m\u001b[0;34m\u001b[0m\u001b[0m\n\u001b[0;32m----> 2\u001b[0;31m \u001b[0mtruck\u001b[0m\u001b[0;34m.\u001b[0m\u001b[0mtotal_cost\u001b[0m\u001b[0;34m(\u001b[0m\u001b[0;34m)\u001b[0m\u001b[0;34m\u001b[0m\u001b[0;34m\u001b[0m\u001b[0m\n\u001b[0m",
      "\u001b[0;32m<ipython-input-3-f1f4d2d9660b>\u001b[0m in \u001b[0;36mtotal_cost\u001b[0;34m(self)\u001b[0m\n\u001b[1;32m     10\u001b[0m \u001b[0;34m\u001b[0m\u001b[0m\n\u001b[1;32m     11\u001b[0m     \u001b[0;32mdef\u001b[0m \u001b[0mtotal_cost\u001b[0m\u001b[0;34m(\u001b[0m\u001b[0mself\u001b[0m\u001b[0;34m)\u001b[0m \u001b[0;34m->\u001b[0m \u001b[0mfloat\u001b[0m\u001b[0;34m:\u001b[0m\u001b[0;34m\u001b[0m\u001b[0;34m\u001b[0m\u001b[0m\n\u001b[0;32m---> 12\u001b[0;31m         \u001b[0;32mreturn\u001b[0m \u001b[0mself\u001b[0m\u001b[0;34m.\u001b[0m\u001b[0mprice\u001b[0m \u001b[0;34m*\u001b[0m \u001b[0mself\u001b[0m\u001b[0;34m.\u001b[0m\u001b[0mquantity\u001b[0m\u001b[0;34m\u001b[0m\u001b[0;34m\u001b[0m\u001b[0m\n\u001b[0m\u001b[1;32m     13\u001b[0m \u001b[0;34m\u001b[0m\u001b[0m\n\u001b[1;32m     14\u001b[0m \u001b[0mtruck\u001b[0m\u001b[0;34m=\u001b[0m\u001b[0mTruck\u001b[0m\u001b[0;34m(\u001b[0m\u001b[0mname\u001b[0m\u001b[0;34m=\u001b[0m\u001b[0;34m'f150'\u001b[0m\u001b[0;34m,\u001b[0m\u001b[0mprice\u001b[0m\u001b[0;34m=\u001b[0m\u001b[0;36m50000\u001b[0m\u001b[0;34m,\u001b[0m \u001b[0mquantity\u001b[0m\u001b[0;34m=\u001b[0m\u001b[0;36m10\u001b[0m\u001b[0;34m)\u001b[0m\u001b[0;34m\u001b[0m\u001b[0;34m\u001b[0m\u001b[0m\n",
      "\u001b[0;31mTypeError\u001b[0m: can't multiply sequence by non-int of type 'str'"
     ]
    }
   ],
   "source": [
    "# Let's run it - since it allowed us to create the object\n",
    "truck.total_cost()"
   ]
  },
  {
   "cell_type": "markdown",
   "id": "illegal-raleigh",
   "metadata": {
    "slideshow": {
     "slide_type": "slide"
    },
    "tags": []
   },
   "source": [
    "# Pydantic\n",
    "\n",
    "Pydantic is a data validation library using python type annotations. pydantic enforces type hints at runtime, and provides user friendly errors when data is invalid.\n",
    "\n",
    "This helps you define how data should be in pure, canonical python. \n",
    "\n",
    "pydantic allows custom data types to be defined or you can extend validation with methods on a model decorated with the validator decorator. dataclasses integration. As well as BaseModel, pydantic provides a dataclass decorator which creates (almost) vanilla python dataclasses with input data parsing and validation.\n"
   ]
  },
  {
   "cell_type": "code",
   "execution_count": 29,
   "id": "embedded-pasta",
   "metadata": {
    "slideshow": {
     "slide_type": "slide"
    },
    "tags": []
   },
   "outputs": [
    {
     "data": {
      "text/plain": [
       "Tesla(name='model 3', price=50000.0, quantity=0)"
      ]
     },
     "execution_count": 29,
     "metadata": {},
     "output_type": "execute_result"
    }
   ],
   "source": [
    "from typing import Optional\n",
    "from pydantic import BaseModel\n",
    "\n",
    "\n",
    "class Tesla(BaseModel):\n",
    "    name: str\n",
    "    price: float\n",
    "    quantity: int = 0\n",
    "        \n",
    "tesla=Tesla(name='model 3', price=50000)\n",
    "tesla"
   ]
  },
  {
   "cell_type": "code",
   "execution_count": 31,
   "id": "greenhouse-trainer",
   "metadata": {
    "slideshow": {
     "slide_type": "slide"
    },
    "tags": []
   },
   "outputs": [
    {
     "data": {
      "text/plain": [
       "Tesla(name=None, price=None, quantity=0)"
      ]
     },
     "execution_count": 31,
     "metadata": {},
     "output_type": "execute_result"
    }
   ],
   "source": [
    "#What happens when you make them optional?\n",
    "class Tesla(BaseModel):\n",
    "    name: Optional[str]\n",
    "    price: Optional[float]\n",
    "    quantity: int = 0\n",
    "tesla=Tesla()\n",
    "tesla"
   ]
  },
  {
   "cell_type": "code",
   "execution_count": 23,
   "id": "intense-needle",
   "metadata": {
    "slideshow": {
     "slide_type": "slide"
    },
    "tags": []
   },
   "outputs": [
    {
     "name": "stdout",
     "output_type": "stream",
     "text": [
      "[\n",
      "  {\n",
      "    \"loc\": [\n",
      "      \"quantity\"\n",
      "    ],\n",
      "    \"msg\": \"value is not a valid integer\",\n",
      "    \"type\": \"type_error.integer\"\n",
      "  }\n",
      "]\n"
     ]
    }
   ],
   "source": [
    "from pydantic import ValidationError\n",
    "\n",
    "try:\n",
    "    tesla=Tesla(name=3, price='50000', quantity='ten')\n",
    "except ValidationError as e:\n",
    "    print(e.json())"
   ]
  },
  {
   "cell_type": "markdown",
   "id": "august-mozambique",
   "metadata": {
    "slideshow": {
     "slide_type": "slide"
    },
    "tags": []
   },
   "source": [
    "# What happens when you try type coercion ?\n",
    "Hint -> Strings, bytes or floats will be coerced if possible"
   ]
  },
  {
   "cell_type": "code",
   "execution_count": 24,
   "id": "juvenile-league",
   "metadata": {},
   "outputs": [
    {
     "data": {
      "text/plain": [
       "Tesla(name='3', price=50000.0, quantity=10)"
      ]
     },
     "execution_count": 24,
     "metadata": {},
     "output_type": "execute_result"
    }
   ],
   "source": [
    "try:\n",
    "    tesla=Tesla(name=3, price='50000', quantity='10')\n",
    "except ValidationError as e:\n",
    "    print(e.json())\n",
    "tesla"
   ]
  },
  {
   "cell_type": "markdown",
   "id": "numeric-instrument",
   "metadata": {
    "slideshow": {
     "slide_type": "slide"
    },
    "tags": []
   },
   "source": [
    "## Pydantic type supports \n",
    "All of the standard python types\n",
    "* bool, int, float,str, bytes, list, tuple, dict,set, frozenset\n",
    "* Python Typing library\n",
    "* Datetime libary\n",
    "\n",
    "https://pydantic-docs.helpmanual.io/usage/types/\n",
    "\n",
    "And many more"
   ]
  }
 ],
 "metadata": {
  "kernelspec": {
   "display_name": "Python 3",
   "language": "python",
   "name": "python3"
  },
  "language_info": {
   "codemirror_mode": {
    "name": "ipython",
    "version": 3
   },
   "file_extension": ".py",
   "mimetype": "text/x-python",
   "name": "python",
   "nbconvert_exporter": "python",
   "pygments_lexer": "ipython3",
   "version": "3.9.1"
  }
 },
 "nbformat": 4,
 "nbformat_minor": 5
}
